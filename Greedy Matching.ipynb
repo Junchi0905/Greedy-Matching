{
 "cells": [
  {
   "cell_type": "code",
   "execution_count": 105,
   "metadata": {},
   "outputs": [],
   "source": [
    "import os \n",
    "import pandas as pd\n",
    "import numpy as np\n",
    "import seaborn as sns\n",
    "import matplotlib.pyplot as plt\n",
    "import warnings\n",
    "warnings.filterwarnings('ignore')\n",
    "os.chdir('C:\\\\Users\\\\junch\\\\Desktop\\\\New folder')"
   ]
  },
  {
   "cell_type": "markdown",
   "metadata": {},
   "source": [
    "# Import data"
   ]
  },
  {
   "cell_type": "code",
   "execution_count": 698,
   "metadata": {},
   "outputs": [
    {
     "data": {
      "text/html": [
       "<div>\n",
       "<style scoped>\n",
       "    .dataframe tbody tr th:only-of-type {\n",
       "        vertical-align: middle;\n",
       "    }\n",
       "\n",
       "    .dataframe tbody tr th {\n",
       "        vertical-align: top;\n",
       "    }\n",
       "\n",
       "    .dataframe thead th {\n",
       "        text-align: right;\n",
       "    }\n",
       "</style>\n",
       "<table border=\"1\" class=\"dataframe\">\n",
       "  <thead>\n",
       "    <tr style=\"text-align: right;\">\n",
       "      <th></th>\n",
       "      <th>Unnamed: 0</th>\n",
       "      <th>id</th>\n",
       "      <th>year</th>\n",
       "      <th>Dept</th>\n",
       "      <th>treatment</th>\n",
       "      <th>profit</th>\n",
       "      <th>size</th>\n",
       "      <th>wageindex</th>\n",
       "    </tr>\n",
       "  </thead>\n",
       "  <tbody>\n",
       "    <tr>\n",
       "      <th>0</th>\n",
       "      <td>1</td>\n",
       "      <td>110003.0</td>\n",
       "      <td>2003</td>\n",
       "      <td>M5</td>\n",
       "      <td>0</td>\n",
       "      <td>4926.0</td>\n",
       "      <td>164.0</td>\n",
       "      <td>0.675814</td>\n",
       "    </tr>\n",
       "    <tr>\n",
       "      <th>1</th>\n",
       "      <td>2</td>\n",
       "      <td>110003.0</td>\n",
       "      <td>2004</td>\n",
       "      <td>M5</td>\n",
       "      <td>0</td>\n",
       "      <td>5194.0</td>\n",
       "      <td>141.0</td>\n",
       "      <td>0.820107</td>\n",
       "    </tr>\n",
       "    <tr>\n",
       "      <th>2</th>\n",
       "      <td>3</td>\n",
       "      <td>110003.0</td>\n",
       "      <td>2005</td>\n",
       "      <td>M5</td>\n",
       "      <td>0</td>\n",
       "      <td>5347.0</td>\n",
       "      <td>152.0</td>\n",
       "      <td>1.194434</td>\n",
       "    </tr>\n",
       "    <tr>\n",
       "      <th>3</th>\n",
       "      <td>4</td>\n",
       "      <td>110003.0</td>\n",
       "      <td>2006</td>\n",
       "      <td>M5</td>\n",
       "      <td>0</td>\n",
       "      <td>5502.0</td>\n",
       "      <td>152.0</td>\n",
       "      <td>0.632703</td>\n",
       "    </tr>\n",
       "    <tr>\n",
       "      <th>4</th>\n",
       "      <td>5</td>\n",
       "      <td>110003.0</td>\n",
       "      <td>2007</td>\n",
       "      <td>M5</td>\n",
       "      <td>0</td>\n",
       "      <td>5814.0</td>\n",
       "      <td>126.0</td>\n",
       "      <td>0.932007</td>\n",
       "    </tr>\n",
       "  </tbody>\n",
       "</table>\n",
       "</div>"
      ],
      "text/plain": [
       "   Unnamed: 0        id  year Dept  treatment  profit   size  wageindex\n",
       "0           1  110003.0  2003   M5          0  4926.0  164.0   0.675814\n",
       "1           2  110003.0  2004   M5          0  5194.0  141.0   0.820107\n",
       "2           3  110003.0  2005   M5          0  5347.0  152.0   1.194434\n",
       "3           4  110003.0  2006   M5          0  5502.0  152.0   0.632703\n",
       "4           5  110003.0  2007   M5          0  5814.0  126.0   0.932007"
      ]
     },
     "execution_count": 698,
     "metadata": {},
     "output_type": "execute_result"
    }
   ],
   "source": [
    "match_original=pd.read_csv('simulated_data.csv')\n",
    "match_original.head()"
   ]
  },
  {
   "cell_type": "markdown",
   "metadata": {},
   "source": [
    "# Data cleaning"
   ]
  },
  {
   "cell_type": "code",
   "execution_count": 699,
   "metadata": {},
   "outputs": [
    {
     "data": {
      "text/plain": [
       "Unnamed: 0     0\n",
       "id            30\n",
       "year           0\n",
       "Dept           0\n",
       "treatment      0\n",
       "profit         0\n",
       "size           0\n",
       "wageindex      0\n",
       "dtype: int64"
      ]
     },
     "execution_count": 699,
     "metadata": {},
     "output_type": "execute_result"
    }
   ],
   "source": [
    "#Missing Value\n",
    "match_original.isna().sum()"
   ]
  },
  {
   "cell_type": "code",
   "execution_count": 700,
   "metadata": {},
   "outputs": [
    {
     "data": {
      "text/plain": [
       "Unnamed: 0    0\n",
       "id            0\n",
       "year          0\n",
       "Dept          0\n",
       "treatment     0\n",
       "profit        0\n",
       "size          0\n",
       "wageindex     0\n",
       "dtype: int64"
      ]
     },
     "execution_count": 700,
     "metadata": {},
     "output_type": "execute_result"
    }
   ],
   "source": [
    "#Two teams' ID are missing and deleted. Missing ID is meaningless for matching.\n",
    "match_original.dropna(axis=0,inplace=True)\n",
    "match_original.isna().sum()"
   ]
  },
  {
   "cell_type": "code",
   "execution_count": 688,
   "metadata": {},
   "outputs": [],
   "source": [
    "#Transfer ID to integer\n",
    "match_original[['id']] = match_original[['id']].astype(int)"
   ]
  },
  {
   "cell_type": "code",
   "execution_count": 689,
   "metadata": {},
   "outputs": [],
   "source": [
    "#Split teams to experiment group and control group.\n",
    "experiment= match_original[match_original['treatment']==1]\n",
    "control=match_original[match_original['treatment']==0]"
   ]
  },
  {
   "cell_type": "code",
   "execution_count": 701,
   "metadata": {},
   "outputs": [
    {
     "data": {
      "text/html": [
       "<div>\n",
       "<style scoped>\n",
       "    .dataframe tbody tr th:only-of-type {\n",
       "        vertical-align: middle;\n",
       "    }\n",
       "\n",
       "    .dataframe tbody tr th {\n",
       "        vertical-align: top;\n",
       "    }\n",
       "\n",
       "    .dataframe thead th {\n",
       "        text-align: right;\n",
       "    }\n",
       "</style>\n",
       "<table border=\"1\" class=\"dataframe\">\n",
       "  <thead>\n",
       "    <tr style=\"text-align: right;\">\n",
       "      <th></th>\n",
       "      <th>id</th>\n",
       "      <th>year</th>\n",
       "      <th>Dept</th>\n",
       "      <th>treatment</th>\n",
       "      <th>profit</th>\n",
       "      <th>size</th>\n",
       "      <th>wageindex</th>\n",
       "    </tr>\n",
       "  </thead>\n",
       "  <tbody>\n",
       "    <tr>\n",
       "      <th>0</th>\n",
       "      <td>110070</td>\n",
       "      <td>2003</td>\n",
       "      <td>M5</td>\n",
       "      <td>1</td>\n",
       "      <td>4221.0</td>\n",
       "      <td>150.0</td>\n",
       "      <td>0.770716</td>\n",
       "    </tr>\n",
       "    <tr>\n",
       "      <th>15</th>\n",
       "      <td>110505</td>\n",
       "      <td>2003</td>\n",
       "      <td>M5</td>\n",
       "      <td>1</td>\n",
       "      <td>5600.0</td>\n",
       "      <td>153.0</td>\n",
       "      <td>0.676197</td>\n",
       "    </tr>\n",
       "    <tr>\n",
       "      <th>30</th>\n",
       "      <td>140005</td>\n",
       "      <td>2003</td>\n",
       "      <td>M1</td>\n",
       "      <td>1</td>\n",
       "      <td>14629.0</td>\n",
       "      <td>398.0</td>\n",
       "      <td>1.504247</td>\n",
       "    </tr>\n",
       "    <tr>\n",
       "      <th>45</th>\n",
       "      <td>142350</td>\n",
       "      <td>2003</td>\n",
       "      <td>M1</td>\n",
       "      <td>1</td>\n",
       "      <td>18258.0</td>\n",
       "      <td>364.0</td>\n",
       "      <td>1.137640</td>\n",
       "    </tr>\n",
       "    <tr>\n",
       "      <th>60</th>\n",
       "      <td>150160</td>\n",
       "      <td>2003</td>\n",
       "      <td>R9</td>\n",
       "      <td>1</td>\n",
       "      <td>8207.0</td>\n",
       "      <td>201.0</td>\n",
       "      <td>1.183509</td>\n",
       "    </tr>\n",
       "  </tbody>\n",
       "</table>\n",
       "</div>"
      ],
      "text/plain": [
       "        id  year Dept  treatment   profit   size  wageindex\n",
       "0   110070  2003   M5          1   4221.0  150.0   0.770716\n",
       "15  110505  2003   M5          1   5600.0  153.0   0.676197\n",
       "30  140005  2003   M1          1  14629.0  398.0   1.504247\n",
       "45  142350  2003   M1          1  18258.0  364.0   1.137640\n",
       "60  150160  2003   R9          1   8207.0  201.0   1.183509"
      ]
     },
     "execution_count": 701,
     "metadata": {},
     "output_type": "execute_result"
    }
   ],
   "source": [
    "#Extract exp_first for matching using experiment group data in the first year\n",
    "exp_first=pd.merge(experiment,match_original,how='inner', on='id')\n",
    "cols = [0,2,3,4,5,6,7,8]\n",
    "exp_first.drop(exp_first.columns[cols],axis=1,inplace=True)\n",
    "exp_first.columns=['id','year','Dept','treatment','profit','size','wageindex']\n",
    "exp_first.sort_values(['id','year'],ascending=[1,1],inplace=True)\n",
    "exp_first = exp_first.groupby(['id']).head(1)\n",
    "exp_first['treatment']=1\n",
    "exp_first.head()"
   ]
  },
  {
   "cell_type": "code",
   "execution_count": 702,
   "metadata": {},
   "outputs": [
    {
     "data": {
      "text/html": [
       "<div>\n",
       "<style scoped>\n",
       "    .dataframe tbody tr th:only-of-type {\n",
       "        vertical-align: middle;\n",
       "    }\n",
       "\n",
       "    .dataframe tbody tr th {\n",
       "        vertical-align: top;\n",
       "    }\n",
       "\n",
       "    .dataframe thead th {\n",
       "        text-align: right;\n",
       "    }\n",
       "</style>\n",
       "<table border=\"1\" class=\"dataframe\">\n",
       "  <thead>\n",
       "    <tr style=\"text-align: right;\">\n",
       "      <th></th>\n",
       "      <th>id</th>\n",
       "      <th>year</th>\n",
       "      <th>Dept</th>\n",
       "      <th>treatment</th>\n",
       "      <th>profit</th>\n",
       "      <th>size</th>\n",
       "      <th>wageindex</th>\n",
       "    </tr>\n",
       "  </thead>\n",
       "  <tbody>\n",
       "    <tr>\n",
       "      <th>436</th>\n",
       "      <td>110003</td>\n",
       "      <td>2003</td>\n",
       "      <td>M5</td>\n",
       "      <td>0</td>\n",
       "      <td>4926.0</td>\n",
       "      <td>164.0</td>\n",
       "      <td>0.675814</td>\n",
       "    </tr>\n",
       "    <tr>\n",
       "      <th>437</th>\n",
       "      <td>110173</td>\n",
       "      <td>2003</td>\n",
       "      <td>M5</td>\n",
       "      <td>0</td>\n",
       "      <td>3428.0</td>\n",
       "      <td>117.0</td>\n",
       "      <td>0.833519</td>\n",
       "    </tr>\n",
       "    <tr>\n",
       "      <th>438</th>\n",
       "      <td>110200</td>\n",
       "      <td>2003</td>\n",
       "      <td>M5</td>\n",
       "      <td>0</td>\n",
       "      <td>3361.0</td>\n",
       "      <td>115.0</td>\n",
       "      <td>0.768205</td>\n",
       "    </tr>\n",
       "    <tr>\n",
       "      <th>439</th>\n",
       "      <td>110260</td>\n",
       "      <td>2003</td>\n",
       "      <td>M5</td>\n",
       "      <td>0</td>\n",
       "      <td>3753.0</td>\n",
       "      <td>108.0</td>\n",
       "      <td>0.745002</td>\n",
       "    </tr>\n",
       "    <tr>\n",
       "      <th>440</th>\n",
       "      <td>110280</td>\n",
       "      <td>2003</td>\n",
       "      <td>M5</td>\n",
       "      <td>0</td>\n",
       "      <td>3302.0</td>\n",
       "      <td>130.0</td>\n",
       "      <td>0.874717</td>\n",
       "    </tr>\n",
       "  </tbody>\n",
       "</table>\n",
       "</div>"
      ],
      "text/plain": [
       "         id  year Dept  treatment  profit   size  wageindex\n",
       "436  110003  2003   M5          0  4926.0  164.0   0.675814\n",
       "437  110173  2003   M5          0  3428.0  117.0   0.833519\n",
       "438  110200  2003   M5          0  3361.0  115.0   0.768205\n",
       "439  110260  2003   M5          0  3753.0  108.0   0.745002\n",
       "440  110280  2003   M5          0  3302.0  130.0   0.874717"
      ]
     },
     "execution_count": 702,
     "metadata": {},
     "output_type": "execute_result"
    }
   ],
   "source": [
    "#Extract con_first for matching using control group data in the first year\n",
    "control.sort_values(['id','year'],ascending=[1,1],inplace=True)\n",
    "con_first = control.groupby(['id']).head(1)\n",
    "#Delete duplicated data\n",
    "con_first.drop(con_first.columns[0],axis=1,inplace=True)\n",
    "con=pd.merge(exp_first,con_first,how='right', on='id')\n",
    "con_first=con[con['treatment_x']!=1]\n",
    "colss = [1,2,3,4,5,6]\n",
    "con_first.drop(con_first.columns[colss],axis=1,inplace=True)\n",
    "con_first.columns=['id','year','Dept','treatment','profit','size','wageindex']\n",
    "con_first.head()"
   ]
  },
  {
   "cell_type": "code",
   "execution_count": 703,
   "metadata": {},
   "outputs": [],
   "source": [
    "#Reset indexing\n",
    "exp_first=exp_first.reset_index()\n",
    "con_first=con_first.reset_index()\n",
    "exp_first.drop(exp_first.columns[0],axis=1,inplace=True)\n",
    "con_first.drop(con_first.columns[0],axis=1,inplace=True)"
   ]
  },
  {
   "cell_type": "markdown",
   "metadata": {},
   "source": [
    "# Greedy Matching Algorithms"
   ]
  },
  {
   "cell_type": "code",
   "execution_count": 704,
   "metadata": {},
   "outputs": [],
   "source": [
    "#Normalizaiton\n",
    "from sklearn import preprocessing\n",
    "exp_first['profit']=preprocessing.scale(exp_first['profit'])\n",
    "exp_first['size']=preprocessing.scale(exp_first['size'])\n",
    "exp_first['wageindex']=preprocessing.scale(exp_first['wageindex'])\n",
    "con_first['profit']=preprocessing.scale(con_first['profit'])\n",
    "con_first['size']=preprocessing.scale(con_first['size'])\n",
    "con_first['wageindex']=preprocessing.scale(con_first['wageindex'])"
   ]
  },
  {
   "cell_type": "code",
   "execution_count": 705,
   "metadata": {},
   "outputs": [],
   "source": [
    "#Greedy Matching\n",
    "\n",
    "#1. Built two array. The first one is to record ID in experiment group and to match same team in control group.\n",
    "#2. The second array is for calculating Euclidean distance and extract index of minimum value.\n",
    "#3. Delete control group which has already been matched becasue one control group only could be matched once.\n",
    "result1=[]\n",
    "result2=[]\n",
    "for i in range(len(exp_first)):\n",
    "    id_exp=exp_first.iloc[i,0]\n",
    "    result1.append(id_exp)\n",
    "    array1=np.array(exp_first.iloc[i,4:])\n",
    "    dept=exp_first.iloc[i,:]['Dept']\n",
    "    same_dept=con_first[con_first['Dept']==dept]\n",
    "    array2_data=same_dept.iloc[:,4:]\n",
    "    for j in range(len(array2_data)):\n",
    "        array2=np.array(array2_data.iloc[j,:])\n",
    "        op=np.linalg.norm(array1-array2)\n",
    "        distance.append(float(op))        \n",
    "    index=distance.index(min(distance))  \n",
    "    id_con=same_dept.iloc[index,0]\n",
    "    result2.append(id_con)\n",
    "    if len(exp_first[exp_first['Dept']==dept]) <= len(con_first[con_first['Dept']==dept]):\n",
    "        con_first = con_first[con_first.id != id_con]\n",
    "    distance=[]\n",
    "    \n"
   ]
  },
  {
   "cell_type": "code",
   "execution_count": 706,
   "metadata": {},
   "outputs": [
    {
     "data": {
      "text/html": [
       "<div>\n",
       "<style scoped>\n",
       "    .dataframe tbody tr th:only-of-type {\n",
       "        vertical-align: middle;\n",
       "    }\n",
       "\n",
       "    .dataframe tbody tr th {\n",
       "        vertical-align: top;\n",
       "    }\n",
       "\n",
       "    .dataframe thead th {\n",
       "        text-align: right;\n",
       "    }\n",
       "</style>\n",
       "<table border=\"1\" class=\"dataframe\">\n",
       "  <thead>\n",
       "    <tr style=\"text-align: right;\">\n",
       "      <th></th>\n",
       "      <th>id_experiment</th>\n",
       "      <th>id_control</th>\n",
       "    </tr>\n",
       "  </thead>\n",
       "  <tbody>\n",
       "    <tr>\n",
       "      <th>0</th>\n",
       "      <td>110070</td>\n",
       "      <td>110200</td>\n",
       "    </tr>\n",
       "    <tr>\n",
       "      <th>1</th>\n",
       "      <td>110505</td>\n",
       "      <td>110003</td>\n",
       "    </tr>\n",
       "    <tr>\n",
       "      <th>2</th>\n",
       "      <td>140005</td>\n",
       "      <td>141900</td>\n",
       "    </tr>\n",
       "    <tr>\n",
       "      <th>3</th>\n",
       "      <td>142350</td>\n",
       "      <td>141095</td>\n",
       "    </tr>\n",
       "    <tr>\n",
       "      <th>4</th>\n",
       "      <td>150160</td>\n",
       "      <td>150001</td>\n",
       "    </tr>\n",
       "    <tr>\n",
       "      <th>5</th>\n",
       "      <td>160013</td>\n",
       "      <td>160002</td>\n",
       "    </tr>\n",
       "    <tr>\n",
       "      <th>6</th>\n",
       "      <td>160500</td>\n",
       "      <td>160350</td>\n",
       "    </tr>\n",
       "    <tr>\n",
       "      <th>7</th>\n",
       "      <td>160610</td>\n",
       "      <td>160590</td>\n",
       "    </tr>\n",
       "    <tr>\n",
       "      <th>8</th>\n",
       "      <td>160810</td>\n",
       "      <td>160650</td>\n",
       "    </tr>\n",
       "    <tr>\n",
       "      <th>9</th>\n",
       "      <td>210170</td>\n",
       "      <td>211185</td>\n",
       "    </tr>\n",
       "  </tbody>\n",
       "</table>\n",
       "</div>"
      ],
      "text/plain": [
       "   id_experiment  id_control\n",
       "0         110070      110200\n",
       "1         110505      110003\n",
       "2         140005      141900\n",
       "3         142350      141095\n",
       "4         150160      150001\n",
       "5         160013      160002\n",
       "6         160500      160350\n",
       "7         160610      160590\n",
       "8         160810      160650\n",
       "9         210170      211185"
      ]
     },
     "execution_count": 706,
     "metadata": {},
     "output_type": "execute_result"
    }
   ],
   "source": [
    "# merge two columns and transfer matching result to csv document \n",
    "d={\"id_experiment\":result1,\"id_control\":result2}\n",
    "match=pd.DataFrame(d)\n",
    "match.to_csv('match.csv', index=False)\n",
    "match.head(10)"
   ]
  },
  {
   "cell_type": "code",
   "execution_count": 707,
   "metadata": {},
   "outputs": [
    {
     "name": "stdout",
     "output_type": "stream",
     "text": [
      "[341075, 340145, 340040, 341165, 340195, 340005, 820111, 850235]\n"
     ]
    }
   ],
   "source": [
    "import collections\n",
    "\n",
    "print([item for item, count in collections.Counter(result2).items() if count > 1])"
   ]
  },
  {
   "cell_type": "code",
   "execution_count": null,
   "metadata": {},
   "outputs": [],
   "source": []
  }
 ],
 "metadata": {
  "kernelspec": {
   "display_name": "Python 3",
   "language": "python",
   "name": "python3"
  },
  "language_info": {
   "codemirror_mode": {
    "name": "ipython",
    "version": 3
   },
   "file_extension": ".py",
   "mimetype": "text/x-python",
   "name": "python",
   "nbconvert_exporter": "python",
   "pygments_lexer": "ipython3",
   "version": "3.7.0"
  }
 },
 "nbformat": 4,
 "nbformat_minor": 2
}
